{
  "nbformat": 4,
  "nbformat_minor": 0,
  "metadata": {
    "colab": {
      "name": "DS_using_R.ipynb",
      "provenance": [],
      "include_colab_link": true
    },
    "kernelspec": {
      "name": "ir",
      "display_name": "R"
    },
    "language_info": {
      "name": "R"
    }
  },
  "cells": [
    {
      "cell_type": "markdown",
      "metadata": {
        "id": "view-in-github",
        "colab_type": "text"
      },
      "source": [
        "<a href=\"https://colab.research.google.com/github/janak27/git-practice/blob/master/DS_using_R.ipynb\" target=\"_parent\"><img src=\"https://colab.research.google.com/assets/colab-badge.svg\" alt=\"Open In Colab\"/></a>"
      ]
    },
    {
      "cell_type": "code",
      "execution_count": null,
      "metadata": {
        "colab": {
          "base_uri": "https://localhost:8080/",
          "height": 277
        },
        "id": "iAgRuP63f6Lz",
        "outputId": "c5f891d1-8088-41ea-d8c8-e09c71602837"
      },
      "outputs": [
        {
          "output_type": "display_data",
          "data": {
            "text/plain": [
              "               _                           \n",
              "platform       x86_64-pc-linux-gnu         \n",
              "arch           x86_64                      \n",
              "os             linux-gnu                   \n",
              "system         x86_64, linux-gnu           \n",
              "status                                     \n",
              "major          4                           \n",
              "minor          1.3                         \n",
              "year           2022                        \n",
              "month          03                          \n",
              "day            10                          \n",
              "svn rev        81868                       \n",
              "language       R                           \n",
              "version.string R version 4.1.3 (2022-03-10)\n",
              "nickname       One Push-Up                 "
            ]
          },
          "metadata": {}
        }
      ],
      "source": [
        "version"
      ]
    },
    {
      "cell_type": "code",
      "source": [
        "install.packages(\"tidyverse\")\n",
        "install.packages(\"funModeling\")\n",
        "install.packages(\"Hmisc\")"
      ],
      "metadata": {
        "colab": {
          "base_uri": "https://localhost:8080/"
        },
        "id": "1i3933w4kV-n",
        "outputId": "037ea4b1-123c-4581-c284-4848aab16aee"
      },
      "execution_count": null,
      "outputs": [
        {
          "output_type": "stream",
          "name": "stderr",
          "text": [
            "Installing package into ‘/usr/local/lib/R/site-library’\n",
            "(as ‘lib’ is unspecified)\n",
            "\n",
            "Installing package into ‘/usr/local/lib/R/site-library’\n",
            "(as ‘lib’ is unspecified)\n",
            "\n",
            "also installing the dependencies ‘bitops’, ‘png’, ‘jpeg’, ‘checkmate’, ‘htmlwidgets’, ‘gtools’, ‘caTools’, ‘Formula’, ‘latticeExtra’, ‘htmlTable’, ‘viridis’, ‘gplots’, ‘Rcpp’, ‘plyr’, ‘Hmisc’, ‘ROCR’, ‘gridExtra’, ‘pander’, ‘reshape2’, ‘lazyeval’, ‘moments’, ‘entropy’\n",
            "\n",
            "\n",
            "Installing package into ‘/usr/local/lib/R/site-library’\n",
            "(as ‘lib’ is unspecified)\n",
            "\n"
          ]
        }
      ]
    },
    {
      "cell_type": "code",
      "source": [
        "library(funModeling) \n",
        "library(tidyverse) \n",
        "library(Hmisc)"
      ],
      "metadata": {
        "colab": {
          "base_uri": "https://localhost:8080/"
        },
        "id": "4FHanmFnkYlX",
        "outputId": "55e7654f-b358-4f64-e142-e4bc2a9bbe74"
      },
      "execution_count": null,
      "outputs": [
        {
          "output_type": "stream",
          "name": "stderr",
          "text": [
            "Loading required package: Hmisc\n",
            "\n",
            "Loading required package: lattice\n",
            "\n",
            "Loading required package: survival\n",
            "\n",
            "Loading required package: Formula\n",
            "\n",
            "Loading required package: ggplot2\n",
            "\n",
            "\n",
            "Attaching package: ‘Hmisc’\n",
            "\n",
            "\n",
            "The following objects are masked from ‘package:base’:\n",
            "\n",
            "    format.pval, units\n",
            "\n",
            "\n",
            "funModeling v.1.9.4 :)\n",
            "Examples and tutorials at livebook.datascienceheroes.com\n",
            " / Now in Spanish: librovivodecienciadedatos.ai\n",
            "\n",
            "Warning message in system(\"timedatectl\", intern = TRUE):\n",
            "“running command 'timedatectl' had status 1”\n",
            "── \u001b[1mAttaching packages\u001b[22m ─────────────────────────────────────── tidyverse 1.3.1 ──\n",
            "\n",
            "\u001b[32m✔\u001b[39m \u001b[34mtibble \u001b[39m 3.1.6     \u001b[32m✔\u001b[39m \u001b[34mdplyr  \u001b[39m 1.0.8\n",
            "\u001b[32m✔\u001b[39m \u001b[34mtidyr  \u001b[39m 1.2.0     \u001b[32m✔\u001b[39m \u001b[34mstringr\u001b[39m 1.4.0\n",
            "\u001b[32m✔\u001b[39m \u001b[34mreadr  \u001b[39m 2.1.2     \u001b[32m✔\u001b[39m \u001b[34mforcats\u001b[39m 0.5.1\n",
            "\u001b[32m✔\u001b[39m \u001b[34mpurrr  \u001b[39m 0.3.4     \n",
            "\n",
            "── \u001b[1mConflicts\u001b[22m ────────────────────────────────────────── tidyverse_conflicts() ──\n",
            "\u001b[31m✖\u001b[39m \u001b[34mdplyr\u001b[39m::\u001b[32mfilter()\u001b[39m    masks \u001b[34mstats\u001b[39m::filter()\n",
            "\u001b[31m✖\u001b[39m \u001b[34mdplyr\u001b[39m::\u001b[32mlag()\u001b[39m       masks \u001b[34mstats\u001b[39m::lag()\n",
            "\u001b[31m✖\u001b[39m \u001b[34mdplyr\u001b[39m::\u001b[32msrc()\u001b[39m       masks \u001b[34mHmisc\u001b[39m::src()\n",
            "\u001b[31m✖\u001b[39m \u001b[34mdplyr\u001b[39m::\u001b[32msummarize()\u001b[39m masks \u001b[34mHmisc\u001b[39m::summarize()\n",
            "\n"
          ]
        }
      ]
    },
    {
      "cell_type": "code",
      "source": [
        "df.raw <- read.csv(file ='https://raw.githubusercontent.com/janak27/netflix/main/netflix.csv', fileEncoding=\"UTF-8-BOM\", na.strings = '..')"
      ],
      "metadata": {
        "id": "oL_ZMccggLuq"
      },
      "execution_count": null,
      "outputs": []
    },
    {
      "cell_type": "code",
      "source": [
        "str(df.raw)"
      ],
      "metadata": {
        "colab": {
          "base_uri": "https://localhost:8080/"
        },
        "id": "wa3W1kPEhefA",
        "outputId": "c069369a-85be-42fd-c934-1d6f15159576"
      },
      "execution_count": null,
      "outputs": [
        {
          "output_type": "stream",
          "name": "stdout",
          "text": [
            "'data.frame':\t1000 obs. of  7 variables:\n",
            " $ title            : chr  \"White Chicks\" \"Lucky Number Slevin\" \"Grey's Anatomy\" \"Prison Break\" ...\n",
            " $ rating           : chr  \"PG-13\" \"R\" \"TV-14\" \"TV-14\" ...\n",
            " $ ratingLevel      : chr  \"crude and sexual humor, language and some drug content\" \"strong violence, sexual content and adult language\" \"Parents strongly cautioned. May be unsuitable for children ages 14 and under.\" \"Parents strongly cautioned. May be unsuitable for children ages 14 and under.\" ...\n",
            " $ ratingDescription: int  80 100 90 90 70 90 110 90 110 90 ...\n",
            " $ release.year     : int  2004 2006 2016 2008 2014 2016 2013 2017 2015 2016 ...\n",
            " $ user.rating.score: num  82 NA 98 98 94 95 97 91 98 96 ...\n",
            " $ user.rating.size : int  80 82 80 80 80 80 80 80 80 80 ...\n"
          ]
        }
      ]
    },
    {
      "cell_type": "code",
      "source": [
        "install.packages(\"tidyverse\")\n",
        "library(tidyverse)"
      ],
      "metadata": {
        "colab": {
          "base_uri": "https://localhost:8080/"
        },
        "id": "s7JyYvVchg1w",
        "outputId": "dd04439a-a9ab-494d-be79-d81d26732f35"
      },
      "execution_count": null,
      "outputs": [
        {
          "output_type": "stream",
          "name": "stderr",
          "text": [
            "Installing package into ‘/usr/local/lib/R/site-library’\n",
            "(as ‘lib’ is unspecified)\n",
            "\n"
          ]
        }
      ]
    },
    {
      "cell_type": "code",
      "source": [
        "df.raw"
      ],
      "metadata": {
        "colab": {
          "base_uri": "https://localhost:8080/",
          "height": 1000
        },
        "id": "PnU0IjFFhrVI",
        "outputId": "1f645a4c-e5eb-480c-95d6-b0cb1eb916b3"
      },
      "execution_count": null,
      "outputs": [
        {
          "output_type": "display_data",
          "data": {
            "text/html": [
              "<table class=\"dataframe\">\n",
              "<caption>A data.frame: 1000 × 7</caption>\n",
              "<thead>\n",
              "\t<tr><th scope=col>title</th><th scope=col>rating</th><th scope=col>ratingLevel</th><th scope=col>ratingDescription</th><th scope=col>release.year</th><th scope=col>user.rating.score</th><th scope=col>user.rating.size</th></tr>\n",
              "\t<tr><th scope=col>&lt;chr&gt;</th><th scope=col>&lt;chr&gt;</th><th scope=col>&lt;chr&gt;</th><th scope=col>&lt;int&gt;</th><th scope=col>&lt;int&gt;</th><th scope=col>&lt;dbl&gt;</th><th scope=col>&lt;int&gt;</th></tr>\n",
              "</thead>\n",
              "<tbody>\n",
              "\t<tr><td>White Chicks             </td><td>PG-13</td><td>crude and sexual humor, language and some drug content                       </td><td> 80</td><td>2004</td><td>82</td><td>80</td></tr>\n",
              "\t<tr><td>Lucky Number Slevin      </td><td>R    </td><td>strong violence, sexual content and adult language                           </td><td>100</td><td>2006</td><td>NA</td><td>82</td></tr>\n",
              "\t<tr><td>Grey's Anatomy           </td><td>TV-14</td><td>Parents strongly cautioned. May be unsuitable for children ages 14 and under.</td><td> 90</td><td>2016</td><td>98</td><td>80</td></tr>\n",
              "\t<tr><td>Prison Break             </td><td>TV-14</td><td>Parents strongly cautioned. May be unsuitable for children ages 14 and under.</td><td> 90</td><td>2008</td><td>98</td><td>80</td></tr>\n",
              "\t<tr><td>How I Met Your Mother    </td><td>TV-PG</td><td>Parental guidance suggested. May not be suitable for all children.           </td><td> 70</td><td>2014</td><td>94</td><td>80</td></tr>\n",
              "\t<tr><td>Supernatural             </td><td>TV-14</td><td>Parents strongly cautioned. May be unsuitable for children ages 14 and under.</td><td> 90</td><td>2016</td><td>95</td><td>80</td></tr>\n",
              "\t<tr><td>Breaking Bad             </td><td>TV-MA</td><td>For mature audiences.  May not be suitable for children 17 and under.        </td><td>110</td><td>2013</td><td>97</td><td>80</td></tr>\n",
              "\t<tr><td>The Vampire Diaries      </td><td>TV-14</td><td>Parents strongly cautioned. May be unsuitable for children ages 14 and under.</td><td> 90</td><td>2017</td><td>91</td><td>80</td></tr>\n",
              "\t<tr><td>The Walking Dead         </td><td>TV-MA</td><td>For mature audiences.  May not be suitable for children 17 and under.        </td><td>110</td><td>2015</td><td>98</td><td>80</td></tr>\n",
              "\t<tr><td>Pretty Little Liars      </td><td>TV-14</td><td>Parents strongly cautioned. May be unsuitable for children ages 14 and under.</td><td> 90</td><td>2016</td><td>96</td><td>80</td></tr>\n",
              "\t<tr><td>Once Upon a Time         </td><td>TV-PG</td><td>Parental guidance suggested. May not be suitable for all children.           </td><td> 70</td><td>2016</td><td>98</td><td>80</td></tr>\n",
              "\t<tr><td>Sherlock                 </td><td>TV-14</td><td>Parents strongly cautioned. May be unsuitable for children ages 14 and under.</td><td> 90</td><td>2016</td><td>95</td><td>80</td></tr>\n",
              "\t<tr><td>Death Note               </td><td>TV-14</td><td>Parents strongly cautioned. May be unsuitable for children ages 14 and under.</td><td> 90</td><td>2006</td><td>77</td><td>80</td></tr>\n",
              "\t<tr><td>Naruto                   </td><td>TV-PG</td><td>Parental guidance suggested. May not be suitable for all children.           </td><td> 70</td><td>2008</td><td>88</td><td>80</td></tr>\n",
              "\t<tr><td>The Hunter               </td><td>R    </td><td>language and brief violence                                                  </td><td>100</td><td>2011</td><td>NA</td><td>82</td></tr>\n",
              "\t<tr><td>Lottie Dottie Chicken    </td><td>TV-Y </td><td>Suitable for all ages.                                                       </td><td> 10</td><td>2009</td><td>NA</td><td>82</td></tr>\n",
              "\t<tr><td>Arrow                    </td><td>TV-14</td><td>Parents strongly cautioned. May be unsuitable for children ages 14 and under.</td><td> 90</td><td>2015</td><td>96</td><td>80</td></tr>\n",
              "\t<tr><td>Black Mirror             </td><td>TV-MA</td><td>For mature audiences.  May not be suitable for children 17 and under.        </td><td>110</td><td>2016</td><td>80</td><td>80</td></tr>\n",
              "\t<tr><td>The Originals            </td><td>TV-14</td><td>Parents strongly cautioned. May be unsuitable for children ages 14 and under.</td><td> 90</td><td>2016</td><td>74</td><td>80</td></tr>\n",
              "\t<tr><td>The 100                  </td><td>NR   </td><td>This movie has not been rated.                                               </td><td>124</td><td>2016</td><td>97</td><td>80</td></tr>\n",
              "\t<tr><td>Masha and the Bear       </td><td>TV-Y </td><td>Suitable for all ages.                                                       </td><td> 10</td><td>2013</td><td>81</td><td>80</td></tr>\n",
              "\t<tr><td>Ã“ Pai, Ã“ - Look at This</td><td>TV-MA</td><td>For mature audiences.  May not be suitable for children 17 and under.        </td><td>110</td><td>2007</td><td>NA</td><td>82</td></tr>\n",
              "\t<tr><td>Nymphomaniac: Volume 1   </td><td>NR   </td><td>This movie has not been rated.                                               </td><td>124</td><td>2013</td><td>NA</td><td>82</td></tr>\n",
              "\t<tr><td>Hunter X Hunter (2011)   </td><td>NR   </td><td>This movie has not been rated.                                               </td><td>124</td><td>2013</td><td>57</td><td>80</td></tr>\n",
              "\t<tr><td>Marvel's Luke Cage       </td><td>TV-MA</td><td>For mature audiences.  May not be suitable for children 17 and under.        </td><td>110</td><td>2016</td><td>95</td><td>80</td></tr>\n",
              "\t<tr><td>Marvel's Iron Fist       </td><td>TV-MA</td><td>                                                                             </td><td>110</td><td>2017</td><td>98</td><td>80</td></tr>\n",
              "\t<tr><td>Narcos                   </td><td>TV-MA</td><td>For mature audiences.  May not be suitable for children 17 and under.        </td><td>110</td><td>2016</td><td>94</td><td>80</td></tr>\n",
              "\t<tr><td>The Flash                </td><td>TV-PG</td><td>Parental guidance suggested. May not be suitable for all children.           </td><td> 70</td><td>2016</td><td>98</td><td>80</td></tr>\n",
              "\t<tr><td>The Seven Deadly Sins    </td><td>TV-14</td><td>Parents strongly cautioned. May be unsuitable for children ages 14 and under.</td><td> 90</td><td>2016</td><td>NA</td><td>82</td></tr>\n",
              "\t<tr><td>Scream                   </td><td>TV-14</td><td>Parents strongly cautioned. May be unsuitable for children ages 14 and under.</td><td> 90</td><td>2016</td><td>NA</td><td>82</td></tr>\n",
              "\t<tr><td>⋮</td><td>⋮</td><td>⋮</td><td>⋮</td><td>⋮</td><td>⋮</td><td>⋮</td></tr>\n",
              "\t<tr><td>Annie                                     </td><td>PG   </td><td>adult content and mld violence                                    </td><td>60</td><td>1982</td><td>68</td><td>80</td></tr>\n",
              "\t<tr><td>An American Tail: Fievel Goes West        </td><td>G    </td><td>General Audiences. Suitable for all ages.                         </td><td>35</td><td>1991</td><td>NA</td><td>82</td></tr>\n",
              "\t<tr><td>D2: The Mighty Ducks                      </td><td>PG   </td><td>some mild language and rough hockey action                        </td><td>60</td><td>1994</td><td>70</td><td>80</td></tr>\n",
              "\t<tr><td>Honey, I Shrunk the Kids                  </td><td>PG   </td><td>Parental guidance suggested. May not be suitable for children.    </td><td>60</td><td>1989</td><td>80</td><td>80</td></tr>\n",
              "\t<tr><td>The Iron Giant                            </td><td>PG   </td><td>fantasy action and mild language                                  </td><td>60</td><td>1999</td><td>83</td><td>80</td></tr>\n",
              "\t<tr><td>The Fox and the Hound 2                   </td><td>G    </td><td>General Audiences. Suitable for all ages.                         </td><td>35</td><td>2006</td><td>NA</td><td>82</td></tr>\n",
              "\t<tr><td>Air Buddies                               </td><td>PG   </td><td>some mild, rude humor                                             </td><td>60</td><td>2006</td><td>NA</td><td>82</td></tr>\n",
              "\t<tr><td>Dr. Dolittle: Tail to the Chief           </td><td>PG   </td><td>brief mild language and some rude behavior                        </td><td>60</td><td>2008</td><td>NA</td><td>82</td></tr>\n",
              "\t<tr><td>Flicka 2                                  </td><td>PG   </td><td>some reckless behavior                                            </td><td>60</td><td>2010</td><td>NA</td><td>82</td></tr>\n",
              "\t<tr><td>H2O: Just Add Water                       </td><td>TV-PG</td><td>Parental guidance suggested. May not be suitable for all children.</td><td>70</td><td>2009</td><td>74</td><td>80</td></tr>\n",
              "\t<tr><td>The Gruffalo                              </td><td>TV-Y </td><td>Suitable for all ages.                                            </td><td>10</td><td>2009</td><td>NA</td><td>82</td></tr>\n",
              "\t<tr><td>Dolphin Tale                              </td><td>PG   </td><td>some mild thematic elements                                       </td><td>60</td><td>2011</td><td>NA</td><td>82</td></tr>\n",
              "\t<tr><td>Pound Puppies                             </td><td>TV-Y </td><td>Suitable for all ages.                                            </td><td>10</td><td>2013</td><td>NA</td><td>82</td></tr>\n",
              "\t<tr><td>Beverly Hills Chihuahua 3: Viva La Fiesta!</td><td>G    </td><td>General Audiences. Suitable for all ages.                         </td><td>35</td><td>2012</td><td>NA</td><td>82</td></tr>\n",
              "\t<tr><td>The Magic School Bus                      </td><td>TV-Y </td><td>Suitable for all ages.                                            </td><td>10</td><td>1997</td><td>81</td><td>80</td></tr>\n",
              "\t<tr><td>Step Dogs                                 </td><td>TV-PG</td><td>Parental guidance suggested. May not be suitable for all children.</td><td>70</td><td>2013</td><td>NA</td><td>82</td></tr>\n",
              "\t<tr><td>PokÃ©mon: Indigo League                   </td><td>TV-Y </td><td>Suitable for all ages.                                            </td><td>10</td><td>2000</td><td>74</td><td>80</td></tr>\n",
              "\t<tr><td>Mia and Me                                </td><td>TV-Y </td><td>Suitable for all ages.                                            </td><td>10</td><td>2015</td><td>NA</td><td>82</td></tr>\n",
              "\t<tr><td>Paddington                                </td><td>PG   </td><td>mild action and rude humor                                        </td><td>60</td><td>2014</td><td>70</td><td>80</td></tr>\n",
              "\t<tr><td>Russell Madness                           </td><td>PG   </td><td>some rude humor and sports action                                 </td><td>60</td><td>2015</td><td>NA</td><td>82</td></tr>\n",
              "\t<tr><td>My Animal Friends                         </td><td>TV-Y </td><td>Suitable for all ages.                                            </td><td>10</td><td>2013</td><td>NA</td><td>82</td></tr>\n",
              "\t<tr><td>Dawn of the Croods                        </td><td>TV-Y7</td><td>Suitable for children ages 7 and older                            </td><td>41</td><td>2017</td><td>72</td><td>80</td></tr>\n",
              "\t<tr><td>Alpha and Omega: Dino Digs                </td><td>TV-G </td><td>Suitable for all ages.                                            </td><td>35</td><td>2016</td><td>NA</td><td>82</td></tr>\n",
              "\t<tr><td>Wiener Dog Internationals                 </td><td>G    </td><td>General Audiences. Suitable for all ages.                         </td><td>35</td><td>2015</td><td>NA</td><td>82</td></tr>\n",
              "\t<tr><td>Pup Star                                  </td><td>G    </td><td>General Audiences. Suitable for all ages.                         </td><td>35</td><td>2016</td><td>NA</td><td>82</td></tr>\n",
              "\t<tr><td>The BFG                                   </td><td>PG   </td><td>for action/peril, some scary moments and brief rude humor         </td><td>60</td><td>2016</td><td>97</td><td>80</td></tr>\n",
              "\t<tr><td>The Secret Life of Pets                   </td><td>PG   </td><td>for action and some rude humor                                    </td><td>60</td><td>2016</td><td>NA</td><td>81</td></tr>\n",
              "\t<tr><td>Precious Puppies                          </td><td>TV-G </td><td>Suitable for all ages.                                            </td><td>35</td><td>2003</td><td>NA</td><td>82</td></tr>\n",
              "\t<tr><td>Beary Tales                               </td><td>TV-G </td><td>Suitable for all ages.                                            </td><td>35</td><td>2013</td><td>NA</td><td>82</td></tr>\n",
              "\t<tr><td>Growing Up Wild                           </td><td>G    </td><td>                                                                  </td><td>35</td><td>2016</td><td>80</td><td>80</td></tr>\n",
              "</tbody>\n",
              "</table>\n"
            ],
            "text/markdown": "\nA data.frame: 1000 × 7\n\n| title &lt;chr&gt; | rating &lt;chr&gt; | ratingLevel &lt;chr&gt; | ratingDescription &lt;int&gt; | release.year &lt;int&gt; | user.rating.score &lt;dbl&gt; | user.rating.size &lt;int&gt; |\n|---|---|---|---|---|---|---|\n| White Chicks              | PG-13 | crude and sexual humor, language and some drug content                        |  80 | 2004 | 82 | 80 |\n| Lucky Number Slevin       | R     | strong violence, sexual content and adult language                            | 100 | 2006 | NA | 82 |\n| Grey's Anatomy            | TV-14 | Parents strongly cautioned. May be unsuitable for children ages 14 and under. |  90 | 2016 | 98 | 80 |\n| Prison Break              | TV-14 | Parents strongly cautioned. May be unsuitable for children ages 14 and under. |  90 | 2008 | 98 | 80 |\n| How I Met Your Mother     | TV-PG | Parental guidance suggested. May not be suitable for all children.            |  70 | 2014 | 94 | 80 |\n| Supernatural              | TV-14 | Parents strongly cautioned. May be unsuitable for children ages 14 and under. |  90 | 2016 | 95 | 80 |\n| Breaking Bad              | TV-MA | For mature audiences.  May not be suitable for children 17 and under.         | 110 | 2013 | 97 | 80 |\n| The Vampire Diaries       | TV-14 | Parents strongly cautioned. May be unsuitable for children ages 14 and under. |  90 | 2017 | 91 | 80 |\n| The Walking Dead          | TV-MA | For mature audiences.  May not be suitable for children 17 and under.         | 110 | 2015 | 98 | 80 |\n| Pretty Little Liars       | TV-14 | Parents strongly cautioned. May be unsuitable for children ages 14 and under. |  90 | 2016 | 96 | 80 |\n| Once Upon a Time          | TV-PG | Parental guidance suggested. May not be suitable for all children.            |  70 | 2016 | 98 | 80 |\n| Sherlock                  | TV-14 | Parents strongly cautioned. May be unsuitable for children ages 14 and under. |  90 | 2016 | 95 | 80 |\n| Death Note                | TV-14 | Parents strongly cautioned. May be unsuitable for children ages 14 and under. |  90 | 2006 | 77 | 80 |\n| Naruto                    | TV-PG | Parental guidance suggested. May not be suitable for all children.            |  70 | 2008 | 88 | 80 |\n| The Hunter                | R     | language and brief violence                                                   | 100 | 2011 | NA | 82 |\n| Lottie Dottie Chicken     | TV-Y  | Suitable for all ages.                                                        |  10 | 2009 | NA | 82 |\n| Arrow                     | TV-14 | Parents strongly cautioned. May be unsuitable for children ages 14 and under. |  90 | 2015 | 96 | 80 |\n| Black Mirror              | TV-MA | For mature audiences.  May not be suitable for children 17 and under.         | 110 | 2016 | 80 | 80 |\n| The Originals             | TV-14 | Parents strongly cautioned. May be unsuitable for children ages 14 and under. |  90 | 2016 | 74 | 80 |\n| The 100                   | NR    | This movie has not been rated.                                                | 124 | 2016 | 97 | 80 |\n| Masha and the Bear        | TV-Y  | Suitable for all ages.                                                        |  10 | 2013 | 81 | 80 |\n| Ã“ Pai, Ã“ - Look at This | TV-MA | For mature audiences.  May not be suitable for children 17 and under.         | 110 | 2007 | NA | 82 |\n| Nymphomaniac: Volume 1    | NR    | This movie has not been rated.                                                | 124 | 2013 | NA | 82 |\n| Hunter X Hunter (2011)    | NR    | This movie has not been rated.                                                | 124 | 2013 | 57 | 80 |\n| Marvel's Luke Cage        | TV-MA | For mature audiences.  May not be suitable for children 17 and under.         | 110 | 2016 | 95 | 80 |\n| Marvel's Iron Fist        | TV-MA | <!----> | 110 | 2017 | 98 | 80 |\n| Narcos                    | TV-MA | For mature audiences.  May not be suitable for children 17 and under.         | 110 | 2016 | 94 | 80 |\n| The Flash                 | TV-PG | Parental guidance suggested. May not be suitable for all children.            |  70 | 2016 | 98 | 80 |\n| The Seven Deadly Sins     | TV-14 | Parents strongly cautioned. May be unsuitable for children ages 14 and under. |  90 | 2016 | NA | 82 |\n| Scream                    | TV-14 | Parents strongly cautioned. May be unsuitable for children ages 14 and under. |  90 | 2016 | NA | 82 |\n| ⋮ | ⋮ | ⋮ | ⋮ | ⋮ | ⋮ | ⋮ |\n| Annie                                      | PG    | adult content and mld violence                                     | 60 | 1982 | 68 | 80 |\n| An American Tail: Fievel Goes West         | G     | General Audiences. Suitable for all ages.                          | 35 | 1991 | NA | 82 |\n| D2: The Mighty Ducks                       | PG    | some mild language and rough hockey action                         | 60 | 1994 | 70 | 80 |\n| Honey, I Shrunk the Kids                   | PG    | Parental guidance suggested. May not be suitable for children.     | 60 | 1989 | 80 | 80 |\n| The Iron Giant                             | PG    | fantasy action and mild language                                   | 60 | 1999 | 83 | 80 |\n| The Fox and the Hound 2                    | G     | General Audiences. Suitable for all ages.                          | 35 | 2006 | NA | 82 |\n| Air Buddies                                | PG    | some mild, rude humor                                              | 60 | 2006 | NA | 82 |\n| Dr. Dolittle: Tail to the Chief            | PG    | brief mild language and some rude behavior                         | 60 | 2008 | NA | 82 |\n| Flicka 2                                   | PG    | some reckless behavior                                             | 60 | 2010 | NA | 82 |\n| H2O: Just Add Water                        | TV-PG | Parental guidance suggested. May not be suitable for all children. | 70 | 2009 | 74 | 80 |\n| The Gruffalo                               | TV-Y  | Suitable for all ages.                                             | 10 | 2009 | NA | 82 |\n| Dolphin Tale                               | PG    | some mild thematic elements                                        | 60 | 2011 | NA | 82 |\n| Pound Puppies                              | TV-Y  | Suitable for all ages.                                             | 10 | 2013 | NA | 82 |\n| Beverly Hills Chihuahua 3: Viva La Fiesta! | G     | General Audiences. Suitable for all ages.                          | 35 | 2012 | NA | 82 |\n| The Magic School Bus                       | TV-Y  | Suitable for all ages.                                             | 10 | 1997 | 81 | 80 |\n| Step Dogs                                  | TV-PG | Parental guidance suggested. May not be suitable for all children. | 70 | 2013 | NA | 82 |\n| PokÃ©mon: Indigo League                    | TV-Y  | Suitable for all ages.                                             | 10 | 2000 | 74 | 80 |\n| Mia and Me                                 | TV-Y  | Suitable for all ages.                                             | 10 | 2015 | NA | 82 |\n| Paddington                                 | PG    | mild action and rude humor                                         | 60 | 2014 | 70 | 80 |\n| Russell Madness                            | PG    | some rude humor and sports action                                  | 60 | 2015 | NA | 82 |\n| My Animal Friends                          | TV-Y  | Suitable for all ages.                                             | 10 | 2013 | NA | 82 |\n| Dawn of the Croods                         | TV-Y7 | Suitable for children ages 7 and older                             | 41 | 2017 | 72 | 80 |\n| Alpha and Omega: Dino Digs                 | TV-G  | Suitable for all ages.                                             | 35 | 2016 | NA | 82 |\n| Wiener Dog Internationals                  | G     | General Audiences. Suitable for all ages.                          | 35 | 2015 | NA | 82 |\n| Pup Star                                   | G     | General Audiences. Suitable for all ages.                          | 35 | 2016 | NA | 82 |\n| The BFG                                    | PG    | for action/peril, some scary moments and brief rude humor          | 60 | 2016 | 97 | 80 |\n| The Secret Life of Pets                    | PG    | for action and some rude humor                                     | 60 | 2016 | NA | 81 |\n| Precious Puppies                           | TV-G  | Suitable for all ages.                                             | 35 | 2003 | NA | 82 |\n| Beary Tales                                | TV-G  | Suitable for all ages.                                             | 35 | 2013 | NA | 82 |\n| Growing Up Wild                            | G     | <!----> | 35 | 2016 | 80 | 80 |\n\n",
            "text/latex": "A data.frame: 1000 × 7\n\\begin{tabular}{lllllll}\n title & rating & ratingLevel & ratingDescription & release.year & user.rating.score & user.rating.size\\\\\n <chr> & <chr> & <chr> & <int> & <int> & <dbl> & <int>\\\\\n\\hline\n\t White Chicks              & PG-13 & crude and sexual humor, language and some drug content                        &  80 & 2004 & 82 & 80\\\\\n\t Lucky Number Slevin       & R     & strong violence, sexual content and adult language                            & 100 & 2006 & NA & 82\\\\\n\t Grey's Anatomy            & TV-14 & Parents strongly cautioned. May be unsuitable for children ages 14 and under. &  90 & 2016 & 98 & 80\\\\\n\t Prison Break              & TV-14 & Parents strongly cautioned. May be unsuitable for children ages 14 and under. &  90 & 2008 & 98 & 80\\\\\n\t How I Met Your Mother     & TV-PG & Parental guidance suggested. May not be suitable for all children.            &  70 & 2014 & 94 & 80\\\\\n\t Supernatural              & TV-14 & Parents strongly cautioned. May be unsuitable for children ages 14 and under. &  90 & 2016 & 95 & 80\\\\\n\t Breaking Bad              & TV-MA & For mature audiences.  May not be suitable for children 17 and under.         & 110 & 2013 & 97 & 80\\\\\n\t The Vampire Diaries       & TV-14 & Parents strongly cautioned. May be unsuitable for children ages 14 and under. &  90 & 2017 & 91 & 80\\\\\n\t The Walking Dead          & TV-MA & For mature audiences.  May not be suitable for children 17 and under.         & 110 & 2015 & 98 & 80\\\\\n\t Pretty Little Liars       & TV-14 & Parents strongly cautioned. May be unsuitable for children ages 14 and under. &  90 & 2016 & 96 & 80\\\\\n\t Once Upon a Time          & TV-PG & Parental guidance suggested. May not be suitable for all children.            &  70 & 2016 & 98 & 80\\\\\n\t Sherlock                  & TV-14 & Parents strongly cautioned. May be unsuitable for children ages 14 and under. &  90 & 2016 & 95 & 80\\\\\n\t Death Note                & TV-14 & Parents strongly cautioned. May be unsuitable for children ages 14 and under. &  90 & 2006 & 77 & 80\\\\\n\t Naruto                    & TV-PG & Parental guidance suggested. May not be suitable for all children.            &  70 & 2008 & 88 & 80\\\\\n\t The Hunter                & R     & language and brief violence                                                   & 100 & 2011 & NA & 82\\\\\n\t Lottie Dottie Chicken     & TV-Y  & Suitable for all ages.                                                        &  10 & 2009 & NA & 82\\\\\n\t Arrow                     & TV-14 & Parents strongly cautioned. May be unsuitable for children ages 14 and under. &  90 & 2015 & 96 & 80\\\\\n\t Black Mirror              & TV-MA & For mature audiences.  May not be suitable for children 17 and under.         & 110 & 2016 & 80 & 80\\\\\n\t The Originals             & TV-14 & Parents strongly cautioned. May be unsuitable for children ages 14 and under. &  90 & 2016 & 74 & 80\\\\\n\t The 100                   & NR    & This movie has not been rated.                                                & 124 & 2016 & 97 & 80\\\\\n\t Masha and the Bear        & TV-Y  & Suitable for all ages.                                                        &  10 & 2013 & 81 & 80\\\\\n\t Ã“ Pai, Ã“ - Look at This & TV-MA & For mature audiences.  May not be suitable for children 17 and under.         & 110 & 2007 & NA & 82\\\\\n\t Nymphomaniac: Volume 1    & NR    & This movie has not been rated.                                                & 124 & 2013 & NA & 82\\\\\n\t Hunter X Hunter (2011)    & NR    & This movie has not been rated.                                                & 124 & 2013 & 57 & 80\\\\\n\t Marvel's Luke Cage        & TV-MA & For mature audiences.  May not be suitable for children 17 and under.         & 110 & 2016 & 95 & 80\\\\\n\t Marvel's Iron Fist        & TV-MA &                                                                               & 110 & 2017 & 98 & 80\\\\\n\t Narcos                    & TV-MA & For mature audiences.  May not be suitable for children 17 and under.         & 110 & 2016 & 94 & 80\\\\\n\t The Flash                 & TV-PG & Parental guidance suggested. May not be suitable for all children.            &  70 & 2016 & 98 & 80\\\\\n\t The Seven Deadly Sins     & TV-14 & Parents strongly cautioned. May be unsuitable for children ages 14 and under. &  90 & 2016 & NA & 82\\\\\n\t Scream                    & TV-14 & Parents strongly cautioned. May be unsuitable for children ages 14 and under. &  90 & 2016 & NA & 82\\\\\n\t ⋮ & ⋮ & ⋮ & ⋮ & ⋮ & ⋮ & ⋮\\\\\n\t Annie                                      & PG    & adult content and mld violence                                     & 60 & 1982 & 68 & 80\\\\\n\t An American Tail: Fievel Goes West         & G     & General Audiences. Suitable for all ages.                          & 35 & 1991 & NA & 82\\\\\n\t D2: The Mighty Ducks                       & PG    & some mild language and rough hockey action                         & 60 & 1994 & 70 & 80\\\\\n\t Honey, I Shrunk the Kids                   & PG    & Parental guidance suggested. May not be suitable for children.     & 60 & 1989 & 80 & 80\\\\\n\t The Iron Giant                             & PG    & fantasy action and mild language                                   & 60 & 1999 & 83 & 80\\\\\n\t The Fox and the Hound 2                    & G     & General Audiences. Suitable for all ages.                          & 35 & 2006 & NA & 82\\\\\n\t Air Buddies                                & PG    & some mild, rude humor                                              & 60 & 2006 & NA & 82\\\\\n\t Dr. Dolittle: Tail to the Chief            & PG    & brief mild language and some rude behavior                         & 60 & 2008 & NA & 82\\\\\n\t Flicka 2                                   & PG    & some reckless behavior                                             & 60 & 2010 & NA & 82\\\\\n\t H2O: Just Add Water                        & TV-PG & Parental guidance suggested. May not be suitable for all children. & 70 & 2009 & 74 & 80\\\\\n\t The Gruffalo                               & TV-Y  & Suitable for all ages.                                             & 10 & 2009 & NA & 82\\\\\n\t Dolphin Tale                               & PG    & some mild thematic elements                                        & 60 & 2011 & NA & 82\\\\\n\t Pound Puppies                              & TV-Y  & Suitable for all ages.                                             & 10 & 2013 & NA & 82\\\\\n\t Beverly Hills Chihuahua 3: Viva La Fiesta! & G     & General Audiences. Suitable for all ages.                          & 35 & 2012 & NA & 82\\\\\n\t The Magic School Bus                       & TV-Y  & Suitable for all ages.                                             & 10 & 1997 & 81 & 80\\\\\n\t Step Dogs                                  & TV-PG & Parental guidance suggested. May not be suitable for all children. & 70 & 2013 & NA & 82\\\\\n\t PokÃ©mon: Indigo League                    & TV-Y  & Suitable for all ages.                                             & 10 & 2000 & 74 & 80\\\\\n\t Mia and Me                                 & TV-Y  & Suitable for all ages.                                             & 10 & 2015 & NA & 82\\\\\n\t Paddington                                 & PG    & mild action and rude humor                                         & 60 & 2014 & 70 & 80\\\\\n\t Russell Madness                            & PG    & some rude humor and sports action                                  & 60 & 2015 & NA & 82\\\\\n\t My Animal Friends                          & TV-Y  & Suitable for all ages.                                             & 10 & 2013 & NA & 82\\\\\n\t Dawn of the Croods                         & TV-Y7 & Suitable for children ages 7 and older                             & 41 & 2017 & 72 & 80\\\\\n\t Alpha and Omega: Dino Digs                 & TV-G  & Suitable for all ages.                                             & 35 & 2016 & NA & 82\\\\\n\t Wiener Dog Internationals                  & G     & General Audiences. Suitable for all ages.                          & 35 & 2015 & NA & 82\\\\\n\t Pup Star                                   & G     & General Audiences. Suitable for all ages.                          & 35 & 2016 & NA & 82\\\\\n\t The BFG                                    & PG    & for action/peril, some scary moments and brief rude humor          & 60 & 2016 & 97 & 80\\\\\n\t The Secret Life of Pets                    & PG    & for action and some rude humor                                     & 60 & 2016 & NA & 81\\\\\n\t Precious Puppies                           & TV-G  & Suitable for all ages.                                             & 35 & 2003 & NA & 82\\\\\n\t Beary Tales                                & TV-G  & Suitable for all ages.                                             & 35 & 2013 & NA & 82\\\\\n\t Growing Up Wild                            & G     &                                                                    & 35 & 2016 & 80 & 80\\\\\n\\end{tabular}\n",
            "text/plain": [
              "     title                                      rating\n",
              "1    White Chicks                               PG-13 \n",
              "2    Lucky Number Slevin                        R     \n",
              "3    Grey's Anatomy                             TV-14 \n",
              "4    Prison Break                               TV-14 \n",
              "5    How I Met Your Mother                      TV-PG \n",
              "6    Supernatural                               TV-14 \n",
              "7    Breaking Bad                               TV-MA \n",
              "8    The Vampire Diaries                        TV-14 \n",
              "9    The Walking Dead                           TV-MA \n",
              "10   Pretty Little Liars                        TV-14 \n",
              "11   Once Upon a Time                           TV-PG \n",
              "12   Sherlock                                   TV-14 \n",
              "13   Death Note                                 TV-14 \n",
              "14   Naruto                                     TV-PG \n",
              "15   The Hunter                                 R     \n",
              "16   Lottie Dottie Chicken                      TV-Y  \n",
              "17   Arrow                                      TV-14 \n",
              "18   Black Mirror                               TV-MA \n",
              "19   The Originals                              TV-14 \n",
              "20   The 100                                    NR    \n",
              "21   Masha and the Bear                         TV-Y  \n",
              "22   Ã“ Pai, Ã“ - Look at This                  TV-MA \n",
              "23   Nymphomaniac: Volume 1                     NR    \n",
              "24   Hunter X Hunter (2011)                     NR    \n",
              "25   Marvel's Luke Cage                         TV-MA \n",
              "26   Marvel's Iron Fist                         TV-MA \n",
              "27   Narcos                                     TV-MA \n",
              "28   The Flash                                  TV-PG \n",
              "29   The Seven Deadly Sins                      TV-14 \n",
              "30   Scream                                     TV-14 \n",
              "⋮    ⋮                                          ⋮     \n",
              "971  Annie                                      PG    \n",
              "972  An American Tail: Fievel Goes West         G     \n",
              "973  D2: The Mighty Ducks                       PG    \n",
              "974  Honey, I Shrunk the Kids                   PG    \n",
              "975  The Iron Giant                             PG    \n",
              "976  The Fox and the Hound 2                    G     \n",
              "977  Air Buddies                                PG    \n",
              "978  Dr. Dolittle: Tail to the Chief            PG    \n",
              "979  Flicka 2                                   PG    \n",
              "980  H2O: Just Add Water                        TV-PG \n",
              "981  The Gruffalo                               TV-Y  \n",
              "982  Dolphin Tale                               PG    \n",
              "983  Pound Puppies                              TV-Y  \n",
              "984  Beverly Hills Chihuahua 3: Viva La Fiesta! G     \n",
              "985  The Magic School Bus                       TV-Y  \n",
              "986  Step Dogs                                  TV-PG \n",
              "987  PokÃ©mon: Indigo League                    TV-Y  \n",
              "988  Mia and Me                                 TV-Y  \n",
              "989  Paddington                                 PG    \n",
              "990  Russell Madness                            PG    \n",
              "991  My Animal Friends                          TV-Y  \n",
              "992  Dawn of the Croods                         TV-Y7 \n",
              "993  Alpha and Omega: Dino Digs                 TV-G  \n",
              "994  Wiener Dog Internationals                  G     \n",
              "995  Pup Star                                   G     \n",
              "996  The BFG                                    PG    \n",
              "997  The Secret Life of Pets                    PG    \n",
              "998  Precious Puppies                           TV-G  \n",
              "999  Beary Tales                                TV-G  \n",
              "1000 Growing Up Wild                            G     \n",
              "     ratingLevel                                                                  \n",
              "1    crude and sexual humor, language and some drug content                       \n",
              "2    strong violence, sexual content and adult language                           \n",
              "3    Parents strongly cautioned. May be unsuitable for children ages 14 and under.\n",
              "4    Parents strongly cautioned. May be unsuitable for children ages 14 and under.\n",
              "5    Parental guidance suggested. May not be suitable for all children.           \n",
              "6    Parents strongly cautioned. May be unsuitable for children ages 14 and under.\n",
              "7    For mature audiences.  May not be suitable for children 17 and under.        \n",
              "8    Parents strongly cautioned. May be unsuitable for children ages 14 and under.\n",
              "9    For mature audiences.  May not be suitable for children 17 and under.        \n",
              "10   Parents strongly cautioned. May be unsuitable for children ages 14 and under.\n",
              "11   Parental guidance suggested. May not be suitable for all children.           \n",
              "12   Parents strongly cautioned. May be unsuitable for children ages 14 and under.\n",
              "13   Parents strongly cautioned. May be unsuitable for children ages 14 and under.\n",
              "14   Parental guidance suggested. May not be suitable for all children.           \n",
              "15   language and brief violence                                                  \n",
              "16   Suitable for all ages.                                                       \n",
              "17   Parents strongly cautioned. May be unsuitable for children ages 14 and under.\n",
              "18   For mature audiences.  May not be suitable for children 17 and under.        \n",
              "19   Parents strongly cautioned. May be unsuitable for children ages 14 and under.\n",
              "20   This movie has not been rated.                                               \n",
              "21   Suitable for all ages.                                                       \n",
              "22   For mature audiences.  May not be suitable for children 17 and under.        \n",
              "23   This movie has not been rated.                                               \n",
              "24   This movie has not been rated.                                               \n",
              "25   For mature audiences.  May not be suitable for children 17 and under.        \n",
              "26                                                                                \n",
              "27   For mature audiences.  May not be suitable for children 17 and under.        \n",
              "28   Parental guidance suggested. May not be suitable for all children.           \n",
              "29   Parents strongly cautioned. May be unsuitable for children ages 14 and under.\n",
              "30   Parents strongly cautioned. May be unsuitable for children ages 14 and under.\n",
              "⋮    ⋮                                                                            \n",
              "971  adult content and mld violence                                               \n",
              "972  General Audiences. Suitable for all ages.                                    \n",
              "973  some mild language and rough hockey action                                   \n",
              "974  Parental guidance suggested. May not be suitable for children.               \n",
              "975  fantasy action and mild language                                             \n",
              "976  General Audiences. Suitable for all ages.                                    \n",
              "977  some mild, rude humor                                                        \n",
              "978  brief mild language and some rude behavior                                   \n",
              "979  some reckless behavior                                                       \n",
              "980  Parental guidance suggested. May not be suitable for all children.           \n",
              "981  Suitable for all ages.                                                       \n",
              "982  some mild thematic elements                                                  \n",
              "983  Suitable for all ages.                                                       \n",
              "984  General Audiences. Suitable for all ages.                                    \n",
              "985  Suitable for all ages.                                                       \n",
              "986  Parental guidance suggested. May not be suitable for all children.           \n",
              "987  Suitable for all ages.                                                       \n",
              "988  Suitable for all ages.                                                       \n",
              "989  mild action and rude humor                                                   \n",
              "990  some rude humor and sports action                                            \n",
              "991  Suitable for all ages.                                                       \n",
              "992  Suitable for children ages 7 and older                                       \n",
              "993  Suitable for all ages.                                                       \n",
              "994  General Audiences. Suitable for all ages.                                    \n",
              "995  General Audiences. Suitable for all ages.                                    \n",
              "996  for action/peril, some scary moments and brief rude humor                    \n",
              "997  for action and some rude humor                                               \n",
              "998  Suitable for all ages.                                                       \n",
              "999  Suitable for all ages.                                                       \n",
              "1000                                                                              \n",
              "     ratingDescription release.year user.rating.score user.rating.size\n",
              "1     80               2004         82                80              \n",
              "2    100               2006         NA                82              \n",
              "3     90               2016         98                80              \n",
              "4     90               2008         98                80              \n",
              "5     70               2014         94                80              \n",
              "6     90               2016         95                80              \n",
              "7    110               2013         97                80              \n",
              "8     90               2017         91                80              \n",
              "9    110               2015         98                80              \n",
              "10    90               2016         96                80              \n",
              "11    70               2016         98                80              \n",
              "12    90               2016         95                80              \n",
              "13    90               2006         77                80              \n",
              "14    70               2008         88                80              \n",
              "15   100               2011         NA                82              \n",
              "16    10               2009         NA                82              \n",
              "17    90               2015         96                80              \n",
              "18   110               2016         80                80              \n",
              "19    90               2016         74                80              \n",
              "20   124               2016         97                80              \n",
              "21    10               2013         81                80              \n",
              "22   110               2007         NA                82              \n",
              "23   124               2013         NA                82              \n",
              "24   124               2013         57                80              \n",
              "25   110               2016         95                80              \n",
              "26   110               2017         98                80              \n",
              "27   110               2016         94                80              \n",
              "28    70               2016         98                80              \n",
              "29    90               2016         NA                82              \n",
              "30    90               2016         NA                82              \n",
              "⋮    ⋮                 ⋮            ⋮                 ⋮               \n",
              "971  60                1982         68                80              \n",
              "972  35                1991         NA                82              \n",
              "973  60                1994         70                80              \n",
              "974  60                1989         80                80              \n",
              "975  60                1999         83                80              \n",
              "976  35                2006         NA                82              \n",
              "977  60                2006         NA                82              \n",
              "978  60                2008         NA                82              \n",
              "979  60                2010         NA                82              \n",
              "980  70                2009         74                80              \n",
              "981  10                2009         NA                82              \n",
              "982  60                2011         NA                82              \n",
              "983  10                2013         NA                82              \n",
              "984  35                2012         NA                82              \n",
              "985  10                1997         81                80              \n",
              "986  70                2013         NA                82              \n",
              "987  10                2000         74                80              \n",
              "988  10                2015         NA                82              \n",
              "989  60                2014         70                80              \n",
              "990  60                2015         NA                82              \n",
              "991  10                2013         NA                82              \n",
              "992  41                2017         72                80              \n",
              "993  35                2016         NA                82              \n",
              "994  35                2015         NA                82              \n",
              "995  35                2016         NA                82              \n",
              "996  60                2016         97                80              \n",
              "997  60                2016         NA                81              \n",
              "998  35                2003         NA                82              \n",
              "999  35                2013         NA                82              \n",
              "1000 35                2016         80                80              "
            ]
          },
          "metadata": {}
        }
      ]
    },
    {
      "cell_type": "code",
      "source": [
        "basic_eda <- function(df.raw)\n",
        "{\n",
        "  glimpse(df.raw)\n",
        "  print(status(df.raw))\n",
        "  freq(df.raw) \n",
        "  print(profiling_num(df.raw))\n",
        "  plot_num(df.raw)\n",
        "  describe(df.raw)\n",
        "}"
      ],
      "metadata": {
        "id": "044kYcLgkn4x"
      },
      "execution_count": null,
      "outputs": []
    },
    {
      "cell_type": "code",
      "source": [
        "plot_num(df.raw)"
      ],
      "metadata": {
        "colab": {
          "base_uri": "https://localhost:8080/",
          "height": 472
        },
        "id": "BHAfX1LulKjy",
        "outputId": "62c6441c-2c2e-4693-d5cd-8af2a260a282"
      },
      "execution_count": null,
      "outputs": [
        {
          "output_type": "stream",
          "name": "stderr",
          "text": [
            "Warning message:\n",
            "“`guides(<scale> = FALSE)` is deprecated. Please use `guides(<scale> = \"none\")` instead.”\n"
          ]
        },
        {
          "output_type": "display_data",
          "data": {
            "text/plain": [
              "plot without title"
            ],
            "image/png": "[encoded data removed]"
          },
          "metadata": {
            "image/png": {
              "width": 420,
              "height": 420
            }
          }
        }
      ]
    },
    {
      "cell_type": "code",
      "source": [
        "library(Hmisc)\n",
        "describe(df.raw)\n"
      ],
      "metadata": {
        "colab": {
          "base_uri": "https://localhost:8080/",
          "height": 1000
        },
        "id": "JlUVyFjklSc_",
        "outputId": "43234a2f-cacd-4b70-f62a-4fec07dd4b7b"
      },
      "execution_count": null,
      "outputs": [
        {
          "output_type": "display_data",
          "data": {
            "text/plain": [
              "df.raw \n",
              "\n",
              " 7  Variables      1000  Observations\n",
              "--------------------------------------------------------------------------------\n",
              "title \n",
              "       n  missing distinct \n",
              "    1000        0      496 \n",
              "\n",
              "lowest : 0.03                       10 Things I Hate About You 100 Metros                 13 Reasons Why             30 Rock                   \n",
              "highest: Worms                      Yellowbird                 Young Justice              Zoobabu                    Zootopia                  \n",
              "--------------------------------------------------------------------------------\n",
              "rating \n",
              "       n  missing distinct \n",
              "    1000        0       13 \n",
              "\n",
              "lowest : G        NR       PG       PG-13    R       \n",
              "highest: TV-PG    TV-Y     TV-Y7    TV-Y7-FV UR      \n",
              "                                                                         \n",
              "Value             G       NR       PG    PG-13        R    TV-14     TV-G\n",
              "Frequency       138       14      170       15       19      234       52\n",
              "Proportion    0.138    0.014    0.170    0.015    0.019    0.234    0.052\n",
              "                                                                \n",
              "Value         TV-MA    TV-PG     TV-Y    TV-Y7 TV-Y7-FV       UR\n",
              "Frequency       148       59       68       38       44        1\n",
              "Proportion    0.148    0.059    0.068    0.038    0.044    0.001\n",
              "--------------------------------------------------------------------------------\n",
              "ratingLevel \n",
              "       n  missing distinct \n",
              "     941       59       99 \n",
              "\n",
              "lowest : action and rude humor                                                                                                         action and some rude humor                                                                                                    action and violence throughout, and mild language                                                                             action sequences and peril                                                                                                    action violence                                                                                                              \n",
              "highest: thematic elements, scary images, some language and suggestive humor                                                           thematic material involving threatening behavior, and for violence and sexuality                                              This movie has not been rated.                                                                                                This movie has not been rated. Intended for adults only and may contain sex, violence, drugs, language or other adult themes. violence and menacing action, rude humor, suggestive content and thematic elements                                           \n",
              "--------------------------------------------------------------------------------\n",
              "ratingDescription \n",
              "       n  missing distinct     Info     Mean      Gmd      .05      .10 \n",
              "    1000        0       11    0.972    67.37    34.88       10       35 \n",
              "     .25      .50      .75      .90      .95 \n",
              "      35       60       90      110      110 \n",
              "\n",
              "lowest :  10  35  41  42  60, highest:  80  90 100 110 124\n",
              "                                                                            \n",
              "Value         10    35    41    42    60    70    80    90   100   110   124\n",
              "Frequency     68   190    38    44   170    59    15   234    19   148    15\n",
              "Proportion 0.068 0.190 0.038 0.044 0.170 0.059 0.015 0.234 0.019 0.148 0.015\n",
              "--------------------------------------------------------------------------------\n",
              "release.year \n",
              "       n  missing distinct     Info     Mean      Gmd      .05      .10 \n",
              "    1000        0       35    0.972     2010     8.24     1993     1998 \n",
              "     .25      .50      .75      .90      .95 \n",
              "    2007     2015     2016     2016     2017 \n",
              "\n",
              "lowest : 1940 1976 1978 1982 1986, highest: 2013 2014 2015 2016 2017\n",
              "--------------------------------------------------------------------------------\n",
              "user.rating.score \n",
              "       n  missing distinct     Info     Mean      Gmd      .05      .10 \n",
              "     605      395       42    0.998    84.09    13.73       61       64 \n",
              "     .25      .50      .75      .90      .95 \n",
              "      75       88       95       97       98 \n",
              "\n",
              "lowest : 55 56 57 58 59, highest: 95 96 97 98 99\n",
              "--------------------------------------------------------------------------------\n",
              "user.rating.size \n",
              "       n  missing distinct     Info     Mean      Gmd \n",
              "    1000        0        3     0.72    80.78   0.9538 \n",
              "                            \n",
              "Value         80    81    82\n",
              "Frequency    605     7   388\n",
              "Proportion 0.605 0.007 0.388\n",
              "--------------------------------------------------------------------------------"
            ]
          },
          "metadata": {}
        }
      ]
    },
    {
      "cell_type": "code",
      "source": [
        "library(funModeling)"
      ],
      "metadata": {
        "id": "CXbzvFRmmLxO"
      },
      "execution_count": null,
      "outputs": []
    },
    {
      "cell_type": "code",
      "source": [
        "head(df.raw, 10)"
      ],
      "metadata": {
        "colab": {
          "base_uri": "https://localhost:8080/",
          "height": 516
        },
        "id": "z-E12_v9mPTe",
        "outputId": "1776aabd-363a-4adc-801c-7b8858fb124e"
      },
      "execution_count": null,
      "outputs": [
        {
          "output_type": "display_data",
          "data": {
            "text/html": [
              "<table class=\"dataframe\">\n",
              "<caption>A data.frame: 10 × 7</caption>\n",
              "<thead>\n",
              "\t<tr><th></th><th scope=col>title</th><th scope=col>rating</th><th scope=col>ratingLevel</th><th scope=col>ratingDescription</th><th scope=col>release.year</th><th scope=col>user.rating.score</th><th scope=col>user.rating.size</th></tr>\n",
              "\t<tr><th></th><th scope=col>&lt;chr&gt;</th><th scope=col>&lt;chr&gt;</th><th scope=col>&lt;chr&gt;</th><th scope=col>&lt;int&gt;</th><th scope=col>&lt;int&gt;</th><th scope=col>&lt;dbl&gt;</th><th scope=col>&lt;int&gt;</th></tr>\n",
              "</thead>\n",
              "<tbody>\n",
              "\t<tr><th scope=row>1</th><td>White Chicks         </td><td>PG-13</td><td>crude and sexual humor, language and some drug content                       </td><td> 80</td><td>2004</td><td>82</td><td>80</td></tr>\n",
              "\t<tr><th scope=row>2</th><td>Lucky Number Slevin  </td><td>R    </td><td>strong violence, sexual content and adult language                           </td><td>100</td><td>2006</td><td>NA</td><td>82</td></tr>\n",
              "\t<tr><th scope=row>3</th><td>Grey's Anatomy       </td><td>TV-14</td><td>Parents strongly cautioned. May be unsuitable for children ages 14 and under.</td><td> 90</td><td>2016</td><td>98</td><td>80</td></tr>\n",
              "\t<tr><th scope=row>4</th><td>Prison Break         </td><td>TV-14</td><td>Parents strongly cautioned. May be unsuitable for children ages 14 and under.</td><td> 90</td><td>2008</td><td>98</td><td>80</td></tr>\n",
              "\t<tr><th scope=row>5</th><td>How I Met Your Mother</td><td>TV-PG</td><td>Parental guidance suggested. May not be suitable for all children.           </td><td> 70</td><td>2014</td><td>94</td><td>80</td></tr>\n",
              "\t<tr><th scope=row>6</th><td>Supernatural         </td><td>TV-14</td><td>Parents strongly cautioned. May be unsuitable for children ages 14 and under.</td><td> 90</td><td>2016</td><td>95</td><td>80</td></tr>\n",
              "\t<tr><th scope=row>7</th><td>Breaking Bad         </td><td>TV-MA</td><td>For mature audiences.  May not be suitable for children 17 and under.        </td><td>110</td><td>2013</td><td>97</td><td>80</td></tr>\n",
              "\t<tr><th scope=row>8</th><td>The Vampire Diaries  </td><td>TV-14</td><td>Parents strongly cautioned. May be unsuitable for children ages 14 and under.</td><td> 90</td><td>2017</td><td>91</td><td>80</td></tr>\n",
              "\t<tr><th scope=row>9</th><td>The Walking Dead     </td><td>TV-MA</td><td>For mature audiences.  May not be suitable for children 17 and under.        </td><td>110</td><td>2015</td><td>98</td><td>80</td></tr>\n",
              "\t<tr><th scope=row>10</th><td>Pretty Little Liars  </td><td>TV-14</td><td>Parents strongly cautioned. May be unsuitable for children ages 14 and under.</td><td> 90</td><td>2016</td><td>96</td><td>80</td></tr>\n",
              "</tbody>\n",
              "</table>\n"
            ],
            "text/markdown": "\nA data.frame: 10 × 7\n\n| <!--/--> | title &lt;chr&gt; | rating &lt;chr&gt; | ratingLevel &lt;chr&gt; | ratingDescription &lt;int&gt; | release.year &lt;int&gt; | user.rating.score &lt;dbl&gt; | user.rating.size &lt;int&gt; |\n|---|---|---|---|---|---|---|---|\n| 1 | White Chicks          | PG-13 | crude and sexual humor, language and some drug content                        |  80 | 2004 | 82 | 80 |\n| 2 | Lucky Number Slevin   | R     | strong violence, sexual content and adult language                            | 100 | 2006 | NA | 82 |\n| 3 | Grey's Anatomy        | TV-14 | Parents strongly cautioned. May be unsuitable for children ages 14 and under. |  90 | 2016 | 98 | 80 |\n| 4 | Prison Break          | TV-14 | Parents strongly cautioned. May be unsuitable for children ages 14 and under. |  90 | 2008 | 98 | 80 |\n| 5 | How I Met Your Mother | TV-PG | Parental guidance suggested. May not be suitable for all children.            |  70 | 2014 | 94 | 80 |\n| 6 | Supernatural          | TV-14 | Parents strongly cautioned. May be unsuitable for children ages 14 and under. |  90 | 2016 | 95 | 80 |\n| 7 | Breaking Bad          | TV-MA | For mature audiences.  May not be suitable for children 17 and under.         | 110 | 2013 | 97 | 80 |\n| 8 | The Vampire Diaries   | TV-14 | Parents strongly cautioned. May be unsuitable for children ages 14 and under. |  90 | 2017 | 91 | 80 |\n| 9 | The Walking Dead      | TV-MA | For mature audiences.  May not be suitable for children 17 and under.         | 110 | 2015 | 98 | 80 |\n| 10 | Pretty Little Liars   | TV-14 | Parents strongly cautioned. May be unsuitable for children ages 14 and under. |  90 | 2016 | 96 | 80 |\n\n",
            "text/latex": "A data.frame: 10 × 7\n\\begin{tabular}{r|lllllll}\n  & title & rating & ratingLevel & ratingDescription & release.year & user.rating.score & user.rating.size\\\\\n  & <chr> & <chr> & <chr> & <int> & <int> & <dbl> & <int>\\\\\n\\hline\n\t1 & White Chicks          & PG-13 & crude and sexual humor, language and some drug content                        &  80 & 2004 & 82 & 80\\\\\n\t2 & Lucky Number Slevin   & R     & strong violence, sexual content and adult language                            & 100 & 2006 & NA & 82\\\\\n\t3 & Grey's Anatomy        & TV-14 & Parents strongly cautioned. May be unsuitable for children ages 14 and under. &  90 & 2016 & 98 & 80\\\\\n\t4 & Prison Break          & TV-14 & Parents strongly cautioned. May be unsuitable for children ages 14 and under. &  90 & 2008 & 98 & 80\\\\\n\t5 & How I Met Your Mother & TV-PG & Parental guidance suggested. May not be suitable for all children.            &  70 & 2014 & 94 & 80\\\\\n\t6 & Supernatural          & TV-14 & Parents strongly cautioned. May be unsuitable for children ages 14 and under. &  90 & 2016 & 95 & 80\\\\\n\t7 & Breaking Bad          & TV-MA & For mature audiences.  May not be suitable for children 17 and under.         & 110 & 2013 & 97 & 80\\\\\n\t8 & The Vampire Diaries   & TV-14 & Parents strongly cautioned. May be unsuitable for children ages 14 and under. &  90 & 2017 & 91 & 80\\\\\n\t9 & The Walking Dead      & TV-MA & For mature audiences.  May not be suitable for children 17 and under.         & 110 & 2015 & 98 & 80\\\\\n\t10 & Pretty Little Liars   & TV-14 & Parents strongly cautioned. May be unsuitable for children ages 14 and under. &  90 & 2016 & 96 & 80\\\\\n\\end{tabular}\n",
            "text/plain": [
              "   title                 rating\n",
              "1  White Chicks          PG-13 \n",
              "2  Lucky Number Slevin   R     \n",
              "3  Grey's Anatomy        TV-14 \n",
              "4  Prison Break          TV-14 \n",
              "5  How I Met Your Mother TV-PG \n",
              "6  Supernatural          TV-14 \n",
              "7  Breaking Bad          TV-MA \n",
              "8  The Vampire Diaries   TV-14 \n",
              "9  The Walking Dead      TV-MA \n",
              "10 Pretty Little Liars   TV-14 \n",
              "   ratingLevel                                                                  \n",
              "1  crude and sexual humor, language and some drug content                       \n",
              "2  strong violence, sexual content and adult language                           \n",
              "3  Parents strongly cautioned. May be unsuitable for children ages 14 and under.\n",
              "4  Parents strongly cautioned. May be unsuitable for children ages 14 and under.\n",
              "5  Parental guidance suggested. May not be suitable for all children.           \n",
              "6  Parents strongly cautioned. May be unsuitable for children ages 14 and under.\n",
              "7  For mature audiences.  May not be suitable for children 17 and under.        \n",
              "8  Parents strongly cautioned. May be unsuitable for children ages 14 and under.\n",
              "9  For mature audiences.  May not be suitable for children 17 and under.        \n",
              "10 Parents strongly cautioned. May be unsuitable for children ages 14 and under.\n",
              "   ratingDescription release.year user.rating.score user.rating.size\n",
              "1   80               2004         82                80              \n",
              "2  100               2006         NA                82              \n",
              "3   90               2016         98                80              \n",
              "4   90               2008         98                80              \n",
              "5   70               2014         94                80              \n",
              "6   90               2016         95                80              \n",
              "7  110               2013         97                80              \n",
              "8   90               2017         91                80              \n",
              "9  110               2015         98                80              \n",
              "10  90               2016         96                80              "
            ]
          },
          "metadata": {}
        }
      ]
    },
    {
      "cell_type": "code",
      "source": [
        "df1 = head(df.raw, 10)"
      ],
      "metadata": {
        "id": "CyHBdff1mx99"
      },
      "execution_count": null,
      "outputs": []
    },
    {
      "cell_type": "code",
      "source": [
        "head(freq(df.raw, \"rating\"), 10)"
      ],
      "metadata": {
        "colab": {
          "base_uri": "https://localhost:8080/",
          "height": 866
        },
        "id": "FVmDhrP1mR5t",
        "outputId": "a264c5f8-67f3-417f-d0f2-67119f66ea2c"
      },
      "execution_count": null,
      "outputs": [
        {
          "output_type": "stream",
          "name": "stderr",
          "text": [
            "Warning message:\n",
            "“`guides(<scale> = FALSE)` is deprecated. Please use `guides(<scale> = \"none\")` instead.”\n"
          ]
        },
        {
          "output_type": "display_data",
          "data": {
            "text/html": [
              "<table class=\"dataframe\">\n",
              "<caption>A data.frame: 10 × 4</caption>\n",
              "<thead>\n",
              "\t<tr><th></th><th scope=col>rating</th><th scope=col>frequency</th><th scope=col>percentage</th><th scope=col>cumulative_perc</th></tr>\n",
              "\t<tr><th></th><th scope=col>&lt;chr&gt;</th><th scope=col>&lt;int&gt;</th><th scope=col>&lt;dbl&gt;</th><th scope=col>&lt;dbl&gt;</th></tr>\n",
              "</thead>\n",
              "<tbody>\n",
              "\t<tr><th scope=row>1</th><td>TV-14   </td><td>234</td><td>23.4</td><td>23.4</td></tr>\n",
              "\t<tr><th scope=row>2</th><td>PG      </td><td>170</td><td>17.0</td><td>40.4</td></tr>\n",
              "\t<tr><th scope=row>3</th><td>TV-MA   </td><td>148</td><td>14.8</td><td>55.2</td></tr>\n",
              "\t<tr><th scope=row>4</th><td>G       </td><td>138</td><td>13.8</td><td>69.0</td></tr>\n",
              "\t<tr><th scope=row>5</th><td>TV-Y    </td><td> 68</td><td> 6.8</td><td>75.8</td></tr>\n",
              "\t<tr><th scope=row>6</th><td>TV-PG   </td><td> 59</td><td> 5.9</td><td>81.7</td></tr>\n",
              "\t<tr><th scope=row>7</th><td>TV-G    </td><td> 52</td><td> 5.2</td><td>86.9</td></tr>\n",
              "\t<tr><th scope=row>8</th><td>TV-Y7-FV</td><td> 44</td><td> 4.4</td><td>91.3</td></tr>\n",
              "\t<tr><th scope=row>9</th><td>TV-Y7   </td><td> 38</td><td> 3.8</td><td>95.1</td></tr>\n",
              "\t<tr><th scope=row>10</th><td>R       </td><td> 19</td><td> 1.9</td><td>97.0</td></tr>\n",
              "</tbody>\n",
              "</table>\n"
            ],
            "text/markdown": "\nA data.frame: 10 × 4\n\n| <!--/--> | rating &lt;chr&gt; | frequency &lt;int&gt; | percentage &lt;dbl&gt; | cumulative_perc &lt;dbl&gt; |\n|---|---|---|---|---|\n| 1 | TV-14    | 234 | 23.4 | 23.4 |\n| 2 | PG       | 170 | 17.0 | 40.4 |\n| 3 | TV-MA    | 148 | 14.8 | 55.2 |\n| 4 | G        | 138 | 13.8 | 69.0 |\n| 5 | TV-Y     |  68 |  6.8 | 75.8 |\n| 6 | TV-PG    |  59 |  5.9 | 81.7 |\n| 7 | TV-G     |  52 |  5.2 | 86.9 |\n| 8 | TV-Y7-FV |  44 |  4.4 | 91.3 |\n| 9 | TV-Y7    |  38 |  3.8 | 95.1 |\n| 10 | R        |  19 |  1.9 | 97.0 |\n\n",
            "text/latex": "A data.frame: 10 × 4\n\\begin{tabular}{r|llll}\n  & rating & frequency & percentage & cumulative\\_perc\\\\\n  & <chr> & <int> & <dbl> & <dbl>\\\\\n\\hline\n\t1 & TV-14    & 234 & 23.4 & 23.4\\\\\n\t2 & PG       & 170 & 17.0 & 40.4\\\\\n\t3 & TV-MA    & 148 & 14.8 & 55.2\\\\\n\t4 & G        & 138 & 13.8 & 69.0\\\\\n\t5 & TV-Y     &  68 &  6.8 & 75.8\\\\\n\t6 & TV-PG    &  59 &  5.9 & 81.7\\\\\n\t7 & TV-G     &  52 &  5.2 & 86.9\\\\\n\t8 & TV-Y7-FV &  44 &  4.4 & 91.3\\\\\n\t9 & TV-Y7    &  38 &  3.8 & 95.1\\\\\n\t10 & R        &  19 &  1.9 & 97.0\\\\\n\\end{tabular}\n",
            "text/plain": [
              "   rating   frequency percentage cumulative_perc\n",
              "1  TV-14    234       23.4       23.4           \n",
              "2  PG       170       17.0       40.4           \n",
              "3  TV-MA    148       14.8       55.2           \n",
              "4  G        138       13.8       69.0           \n",
              "5  TV-Y      68        6.8       75.8           \n",
              "6  TV-PG     59        5.9       81.7           \n",
              "7  TV-G      52        5.2       86.9           \n",
              "8  TV-Y7-FV  44        4.4       91.3           \n",
              "9  TV-Y7     38        3.8       95.1           \n",
              "10 R         19        1.9       97.0           "
            ]
          },
          "metadata": {}
        },
        {
          "output_type": "display_data",
          "data": {
            "text/plain": [
              "plot without title"
            ],
            "image/png": "[encoded data removed]"
          },
          "metadata": {
            "image/png": {
              "width": 420,
              "height": 420
            }
          }
        }
      ]
    },
    {
      "cell_type": "code",
      "source": [
        "library(ggplot2)\n",
        "ggplot(df.raw, aes(ratingDescription, fill=ratingDescription)) + geom_histogram(bins=20) + theme_light()"
      ],
      "metadata": {
        "colab": {
          "base_uri": "https://localhost:8080/",
          "height": 437
        },
        "id": "BhSHHPd2mnKV",
        "outputId": "84b63f69-b260-48c6-8226-2fa62e0daed3"
      },
      "execution_count": null,
      "outputs": [
        {
          "output_type": "display_data",
          "data": {
            "text/plain": [
              "plot without title"
            ],
            "image/png": "[encoded data removed]"
          },
          "metadata": {
            "image/png": {
              "width": 420,
              "height": 420
            }
          }
        }
      ]
    }
  ]
}